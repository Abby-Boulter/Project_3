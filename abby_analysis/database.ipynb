{
 "cells": [
  {
   "cell_type": "code",
   "execution_count": 20,
   "metadata": {},
   "outputs": [],
   "source": [
    "# Import SQL Alchemy\n",
    "from sqlalchemy import create_engine\n",
    "\n",
    "# Import and establish Base for which classes will be constructed \n",
    "from sqlalchemy.ext.declarative import declarative_base\n",
    "Base = declarative_base()\n",
    "\n",
    "# Import modules to declare columns and column data types\n",
    "from sqlalchemy import Column, Integer, String, Float, Boolean\n",
    "\n",
    "from pathlib import Path\n",
    "import pandas as pd\n"
   ]
  },
  {
   "cell_type": "code",
   "execution_count": 21,
   "metadata": {},
   "outputs": [],
   "source": [
    "Path('hri.sqlite').touch()\n",
    "Path('ed_visit.sqlite').touch()\n",
    "Path('hospitalization.sqlite').touch()\n",
    "Path('vulnerability.sqlite').touch()\n",
    "Path('no_heat_days.sqlite').touch()"
   ]
  },
  {
   "cell_type": "code",
   "execution_count": 22,
   "metadata": {},
   "outputs": [],
   "source": [
    "engine = create_engine(f'sqlite:///hri.sqlite')\n",
    "ed_engine = create_engine(f'sqlite:///ed_visit.sqlite')\n",
    "hosp_engine = create_engine(f'sqlite:///hospitalization.sqlite')\n",
    "vul_engine = create_engine(f'sqlite:///vulnerability.sqlite')\n",
    "no_heat_engine = create_engine(f'sqlite:///no_heat_days.sqlite')"
   ]
  },
  {
   "cell_type": "code",
   "execution_count": 23,
   "metadata": {},
   "outputs": [
    {
     "data": {
      "text/plain": [
       "<sqlalchemy.engine.cursor.LegacyCursorResult at 0x7fd508e44280>"
      ]
     },
     "execution_count": 23,
     "metadata": {},
     "output_type": "execute_result"
    }
   ],
   "source": [
    "engine.execute('''CREATE TABLE hri (county text, year int, ED_rates float, Hosp_rates float, SVI float, HeatDays float)''')\n",
    "ed_engine.execute('''CREATE TABLE ed_visit (county text, year int, ed_rate float)''')\n",
    "hosp_engine.execute('''CREATE TABLE hospitalization (county text, year int, hosp_rate float)''')\n",
    "vul_engine.execute('''CREATE TABLE vulnerability (county text, year int, vul_rate float)''')\n",
    "no_heat_engine.execute('''CREATE TABLE no_heat_days (county text, year int, no_heat_rate float)''')\n"
   ]
  },
  {
   "cell_type": "code",
   "execution_count": 24,
   "metadata": {},
   "outputs": [
    {
     "data": {
      "text/plain": [
       "90"
      ]
     },
     "execution_count": 24,
     "metadata": {},
     "output_type": "execute_result"
    }
   ],
   "source": [
    "# load the data into a Pandas DataFrame and write to sqlite table\n",
    "hri = pd.read_csv('../data/HRI.csv')\n",
    "hri.to_sql('hri', engine, if_exists='append', index = False)\n",
    "\n",
    "ed_visit = pd.read_csv('../data/cleaned-AZ-EDVisits.csv')\n",
    "ed_visit.to_sql('ed_visit', ed_engine, if_exists='append', index = False)\n",
    "\n",
    "hospital = pd.read_csv('../data/cleaned_AZ_Hospitalizations.csv')\n",
    "hospital.to_sql('hospitalization', hosp_engine, if_exists='append', index = False)\n",
    "\n",
    "vulnerability = pd.read_csv('../data/cleaned_AZ_Vulnerability.csv')\n",
    "vulnerability.to_sql('vulnerability', vul_engine, if_exists='append', index = False)\n",
    "\n",
    "no_heat = pd.read_csv('../data/cleaned_AZ-NoHeatDays.csv')\n",
    "no_heat.to_sql('no_heat_days', no_heat_engine, if_exists='append', index = False)"
   ]
  },
  {
   "cell_type": "code",
   "execution_count": 25,
   "metadata": {},
   "outputs": [
    {
     "data": {
      "text/plain": [
       "90"
      ]
     },
     "execution_count": 25,
     "metadata": {},
     "output_type": "execute_result"
    }
   ],
   "source": [
    "\n",
    "hospital = pd.read_csv('../data/cleaned_AZ_Hospitalizations.csv')\n",
    "hospital.to_sql('hospitalization', hosp_engine, if_exists='append', index = False)\n",
    "\n",
    "vulnerability = pd.read_csv('../data/cleaned_AZ_Vulnerability.csv')\n",
    "vulnerability.to_sql('vulnerability', vul_engine, if_exists='append', index = False)\n",
    "\n",
    "no_heat = pd.read_csv('../data/cleaned_AZ-NoHeatDays.csv')\n",
    "no_heat.to_sql('no_heat_days', no_heat_engine, if_exists='append', index = False)"
   ]
  }
 ],
 "metadata": {
  "kernelspec": {
   "display_name": "base",
   "language": "python",
   "name": "python3"
  },
  "language_info": {
   "codemirror_mode": {
    "name": "ipython",
    "version": 3
   },
   "file_extension": ".py",
   "mimetype": "text/x-python",
   "name": "python",
   "nbconvert_exporter": "python",
   "pygments_lexer": "ipython3",
   "version": "3.9.13"
  },
  "orig_nbformat": 4
 },
 "nbformat": 4,
 "nbformat_minor": 2
}
