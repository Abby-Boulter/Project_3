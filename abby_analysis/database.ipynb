{
 "cells": [
  {
   "cell_type": "code",
   "execution_count": 1,
   "metadata": {},
   "outputs": [],
   "source": [
    "# Import SQL Alchemy\n",
    "from sqlalchemy import create_engine\n",
    "\n",
    "# Import and establish Base for which classes will be constructed \n",
    "from sqlalchemy.ext.declarative import declarative_base\n",
    "Base = declarative_base()\n",
    "\n",
    "# Import modules to declare columns and column data types\n",
    "from sqlalchemy import Column, Integer, String, Float, Boolean\n",
    "\n",
    "from pathlib import Path\n",
    "import pandas as pd\n"
   ]
  },
  {
   "cell_type": "code",
   "execution_count": 2,
   "metadata": {},
   "outputs": [],
   "source": [
    "Path('hri.sqlite').touch()\n"
   ]
  },
  {
   "cell_type": "code",
   "execution_count": 3,
   "metadata": {},
   "outputs": [],
   "source": [
    "engine = create_engine(f'sqlite:///hri.sqlite')\n"
   ]
  },
  {
   "cell_type": "code",
   "execution_count": 4,
   "metadata": {},
   "outputs": [
    {
     "data": {
      "text/plain": [
       "<sqlalchemy.engine.cursor.LegacyCursorResult at 0x7fd65158e9a0>"
      ]
     },
     "execution_count": 4,
     "metadata": {},
     "output_type": "execute_result"
    }
   ],
   "source": [
    "engine.execute('''CREATE TABLE hri (county text, year int, ED_rates float, Hosp_rates float, SVI float, HeatDays float)''')\n",
    "engine.execute('''CREATE TABLE ed_visit (county text, year int, ed_rate float)''')\n",
    "engine.execute('''CREATE TABLE hospitalization (county text, year int, hosp_rate float)''')\n",
    "engine.execute('''CREATE TABLE vulnerability (county text, year int, vul_rate float)''')\n",
    "engine.execute('''CREATE TABLE extreme_heat_days (county text, year int, ext_heat_days float)''')\n",
    "engine.execute('''CREATE TABLE ed_visit_35 (county text, year int, ed_rate_35 float)''')\n"
   ]
  },
  {
   "cell_type": "code",
   "execution_count": 5,
   "metadata": {},
   "outputs": [
    {
     "data": {
      "text/plain": [
       "165"
      ]
     },
     "execution_count": 5,
     "metadata": {},
     "output_type": "execute_result"
    }
   ],
   "source": [
    "# load the data into a Pandas DataFrame and write to sqlite table\n",
    "hri = pd.read_csv('../data/HRI.csv')\n",
    "hri.to_sql('hri', engine, if_exists='append', index = False)\n",
    "\n",
    "ed_visit = pd.read_csv('../data/cleaned-AZ-EDVisits.csv')\n",
    "ed_visit.to_sql('ed_visit', engine, if_exists='append', index = False)\n",
    "\n",
    "hospital = pd.read_csv('../data/cleaned_AZ_Hospitalizations.csv')\n",
    "hospital.to_sql('hospitalization', engine, if_exists='append', index = False)\n",
    "\n",
    "vulnerability = pd.read_csv('../data/cleaned_AZ_Vulnerability.csv')\n",
    "vulnerability.to_sql('vulnerability', engine, if_exists='append', index = False)\n",
    "\n",
    "extreme_heat_days = pd.read_csv('../data/ExtremeHeatDays.csv')\n",
    "extreme_heat_days.to_sql('extreme_heat_days', engine, if_exists='append', index = False)\n",
    "\n",
    "ed_visit_35 = pd.read_csv('../data/EDRates35.csv')\n",
    "ed_visit_35.to_sql('ed_visit_35', engine, if_exists='append', index = False)"
   ]
  },
  {
   "cell_type": "code",
   "execution_count": null,
   "metadata": {},
   "outputs": [],
   "source": []
  }
 ],
 "metadata": {
  "kernelspec": {
   "display_name": "base",
   "language": "python",
   "name": "python3"
  },
  "language_info": {
   "codemirror_mode": {
    "name": "ipython",
    "version": 3
   },
   "file_extension": ".py",
   "mimetype": "text/x-python",
   "name": "python",
   "nbconvert_exporter": "python",
   "pygments_lexer": "ipython3",
   "version": "3.9.13"
  },
  "orig_nbformat": 4
 },
 "nbformat": 4,
 "nbformat_minor": 2
}
