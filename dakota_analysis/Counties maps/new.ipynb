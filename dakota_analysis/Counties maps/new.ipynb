{
 "cells": [
  {
   "cell_type": "code",
   "execution_count": 1,
   "metadata": {},
   "outputs": [],
   "source": [
    "import pandas as pd\n",
    "import os\n",
    "import csv"
   ]
  },
  {
   "cell_type": "code",
   "execution_count": 21,
   "metadata": {},
   "outputs": [],
   "source": [
    "county = {}"
   ]
  },
  {
   "cell_type": "code",
   "execution_count": 23,
   "metadata": {},
   "outputs": [
    {
     "name": "stdout",
     "output_type": "stream",
     "text": [
      "CSV Header: ['FIPS', 'STNAME', 'CTYNAME', 'TOT_POP', 'TOT_MALE', 'TOT_FEMALE', 'WA_MALE', 'WA_FEMALE', 'NHWA_MALE', 'NHWA_FEMALE', 'NHWhite_Alone', 'Not_NHWhite_Alone', 'MinorityMinority', 'MinorityPCT', 'Black', 'BlackPCT', 'Hispanic', 'HispanicPCT']\n",
      "['04001', 'Arizona', 'Apache County', '73195', '36300', '36895', '8888', '8548', '7224', '7078', '14302', '58893', 'Yes', '80.46%', '448', '1%', '4503', '6.15%']\n",
      "['04003', 'Arizona', 'Cochise County', '132088', '67820', '64268', '59548', '56624', '39510', '36436', '75946', '56142', 'No', '42.50%', '6324', '5%', '43718', '33.10%']\n",
      "['04005', 'Arizona', 'Coconino County', '136011', '67136', '68875', '45342', '45321', '37594', '37578', '75172', '60839', 'No', '44.73%', '2024', '1%', '18572', '13.65%']\n",
      "['04007', 'Arizona', 'Gila County', '53144', '26434', '26710', '21566', '21697', '17060', '17272', '34332', '18812', 'No', '35.40%', '356', '1%', '9757', '18.36%']\n",
      "['04009', 'Arizona', 'Graham County', '37416', '20000', '17416', '16296', '14131', '10046', '9469', '19515', '17901', 'No', '47.84%', '782', '2%', '11715', '31.31%']\n",
      "['04011', 'Arizona', 'Greenlee County', '8802', '4611', '4191', '4265', '3861', '2233', '1965', '4198', '4604', 'Yes', '52.31%', '124', '1%', '4166', '47.33%']\n",
      "['04012', 'Arizona', 'La Paz County', '20281', '10336', '9945', '8169', '7683', '6307', '6058', '12365', '7916', 'No', '39.03%', '203', '1%', '5008', '24.69%']\n",
      "['04013', 'Arizona', 'Maricopa County', '3942169', '1950188', '1991981', '1659287', '1691952', '1121040', '1161501', '2282541', '1659628', 'No', '42.10%', '218894', '6%', '1181994', '29.98%']\n",
      "['04015', 'Arizona', 'Mohave County', '203334', '102329', '101005', '94575', '93356', '80073', '79972', '160045', '43289', 'No', '21.29%', '2507', '1%', '31352', '15.42%']\n",
      "['04017', 'Arizona', 'Navajo County', '107094', '53545', '53549', '28495', '27108', '23434', '22887', '46321', '60773', 'Yes', '56.75%', '1163', '1%', '11639', '10.87%']\n",
      "['04019', 'Arizona', 'Pima County', '992394', '488415', '503979', '419056', '434669', '265079', '274133', '539212', '453182', 'No', '45.67%', '39360', '4%', '351799', '35.45%']\n",
      "['04021', 'Arizona', 'Pinal County', '387365', '203338', '184027', '167225', '155519', '114577', '111050', '225627', '161738', 'No', '41.75%', '18739', '5%', '112144', '28.95%']\n",
      "['04023', 'Arizona', 'Santa Cruz County', '47303', '22681', '24622', '21882', '23817', '3796', '3736', '7532', '39771', 'Yes', '84.08%', '353', '1%', '39106', '82.67%']\n",
      "['04025', 'Arizona', 'Yavapai County', '212637', '103920', '108717', '97742', '102213', '84054', '89281', '173335', '39302', 'No', '18.48%', '1630', '1%', '29580', '13.91%']\n",
      "['04027', 'Arizona', 'Yuma County', '200022', '101430', '98592', '92632', '90677', '35562', '33033', '68595', '131427', 'Yes', '65.71%', '5078', '3%', '121053', '60.52%']\n"
     ]
    }
   ],
   "source": [
    "path = os.path.join('county.csv')\n",
    "with open(path) as csvfile:\n",
    "    csvreader = csv.reader(csvfile, delimiter=',')\n",
    "    csv_header = next(csvreader)\n",
    "    print(f\"CSV Header: {csv_header}\")\n",
    "    for rows in csvreader:\n",
    "        if rows[1] == 'Arizona':\n",
    "            print(rows)"
   ]
  },
  {
   "cell_type": "code",
   "execution_count": null,
   "metadata": {},
   "outputs": [],
   "source": []
  }
 ],
 "metadata": {
  "kernelspec": {
   "display_name": "base",
   "language": "python",
   "name": "python3"
  },
  "language_info": {
   "codemirror_mode": {
    "name": "ipython",
    "version": 3
   },
   "file_extension": ".py",
   "mimetype": "text/x-python",
   "name": "python",
   "nbconvert_exporter": "python",
   "pygments_lexer": "ipython3",
   "version": "3.9.13"
  },
  "orig_nbformat": 4
 },
 "nbformat": 4,
 "nbformat_minor": 2
}
